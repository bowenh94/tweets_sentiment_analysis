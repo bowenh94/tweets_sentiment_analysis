{
 "cells": [
  {
   "cell_type": "code",
   "execution_count": 1,
   "metadata": {
    "autoscroll": "json-false",
    "collapsed": false,
    "ein.tags": [
     "worksheet-0"
    ],
    "slideshow": {
     "slide_type": "-"
    }
   },
   "outputs": [],
   "source": [
    "import pandas as pd\n",
    "import matplotlib.pyplot as plt\n",
    "import sklearn.svm as svm\n",
    "import numpy as np\n",
    "import arff\n",
    "import scipy\n",
    "import time\n",
    "import itertools\n",
    "\n",
    "# Machine learning method for classification \n",
    "from sklearn.neighbors import KNeighborsClassifier\n",
    "from sklearn.svm import SVC\n",
    "from sklearn.naive_bayes import GaussianNB\n",
    "from sklearn.tree import DecisionTreeClassifier\n",
    "from sklearn.ensemble import RandomForestClassifier, AdaBoostClassifier\n",
    "\n",
    "# Feature engineering\n",
    "from sklearn.feature_extraction.text import CountVectorizer\n",
    "from sklearn.decomposition import TruncatedSVD\n",
    "from sklearn.feature_selection import f_classif,chi2\n",
    "from sklearn.feature_selection import SelectPercentile\n",
    "\n",
    "# Evaluation\n",
    "from sklearn.metrics import confusion_matrix\n",
    "from sklearn.metrics import precision_recall_fscore_support\n",
    "from sklearn.metrics import recall_score\n",
    "\n",
    "#load the arff data\n",
    "train_dataset = arff.load(open('/Users/bowenhuang/OneDrive/UniMelb/17Sem1/Knowledge Tech/Project2/2017S1-KTproj2-data/train.arff'))\n",
    "dev_dataset = arff.load(open('/Users/bowenhuang/OneDrive/UniMelb/17Sem1/Knowledge Tech/Project2/2017S1-KTproj2-data/dev.arff'))\n",
    "test_dataset = arff.load(open('/Users/bowenhuang/OneDrive/UniMelb/17Sem1/Knowledge Tech/Project2/2017S1-KTproj2-data/test.arff'))\n",
    "\n",
    "#load raw trainning data\n",
    "raw_train_t = pd.read_table('/Users/bowenhuang/OneDrive/UniMelb/17Sem1/Knowledge Tech/Project2/2017S1-KTproj2-data/train-tweets.txt',header = None,usecols = [0,1])\n",
    "raw_train_t.columns = ['ID','Tweet']\n",
    "raw_train_l = pd.read_table('/Users/bowenhuang/OneDrive/UniMelb/17Sem1/Knowledge Tech/Project2/2017S1-KTproj2-data/train-labels.txt',header = None,usecols = [0,1])\n",
    "raw_train_l.columns = ['ID','Label']\n",
    "train_df = pd.merge(raw_train_t,raw_train_l,on='ID')\n",
    "#train_df.head\n",
    "\n",
    "#load raw test data\n",
    "raw_test_t = pd.read_table('/Users/bowenhuang/OneDrive/UniMelb/17Sem1/Knowledge Tech/Project2/2017S1-KTproj2-data/dev-tweets.txt',header = None,usecols = [0,1])\n",
    "raw_test_t.columns = ['ID','Tweet']\n",
    "raw_test_l = pd.read_table('/Users/bowenhuang/OneDrive/UniMelb/17Sem1/Knowledge Tech/Project2/2017S1-KTproj2-data/dev-labels.txt',header = None,usecols = [0,1])\n",
    "raw_test_l.columns = ['ID','Label']\n",
    "test_df = pd.merge(raw_test_t,raw_test_l,on='ID')\n",
    "#test_df.head\n",
    "\n",
    "\n",
    "# get the trainning and test data \n",
    "train_data_vector = np.array(train_dataset['data'])\n",
    "X_train = scipy.delete(train_data_vector,0,1)\n",
    "X_train = scipy.delete(X_train,-1,1)\n",
    "y_train = train_data_vector[:,-1]\n",
    "\n",
    "test_data_vector = np.array(dev_dataset['data'])\n",
    "X_test = scipy.delete(test_data_vector,0,1)\n",
    "X_test = scipy.delete(X_test,-1,1)\n",
    "y_test = test_data_vector[:,-1]"
   ]
  },
  {
   "cell_type": "code",
   "execution_count": 2,
   "metadata": {
    "autoscroll": "json-false",
    "collapsed": false,
    "ein.tags": [
     "worksheet-0"
    ],
    "slideshow": {
     "slide_type": "-"
    }
   },
   "outputs": [],
   "source": [
    "#Define a name vector used in this experiment\n",
    "names = [\"Naive Bayes\",\"RBF SVM\",\n",
    "         \"Decision Tree\", \"Random Forest\"\n",
    "]\n",
    "# Define a class names vector\n",
    "class_names = ['positive','neutral','negative']\n",
    "#Define a function for apply different machine learning method\n",
    "def getResultofAlgo(classifiers_ml, X_train, y_train, X_test, y_test):\n",
    "    import time\n",
    "    result_ml = pd.DataFrame()\n",
    "    for name,clf in zip(names,classifiers_ml):\n",
    "        s = time.time()\n",
    "        clf.fit(X_train,y_train)\n",
    "        y_pred = clf.predict(X_test)\n",
    "        cm = confusion_matrix(y_test,y_pred)\n",
    "        score = precision_recall_fscore_support(y_test,y_pred,average='macro')\n",
    "        #plt.figure()\n",
    "        #plot_confusion_matrix(cm,classes = class_names,title = str(name))\n",
    "        print(cm)\n",
    "        e = time.time()\n",
    "        print(\"Time : \"+str(e-s)+\", Name : \"+name+\", Score : \"+str(score))\n",
    "\n",
    "        #plt.show()\n",
    "    return result_ml\n",
    "\n",
    "\n",
    "#Define a function for plot a visible confusion matrix\n",
    "def plot_confusion_matrix(cm, classes,\n",
    "                          normalize=False,\n",
    "                          title='Confusion matrix',\n",
    "                          cmap=plt.cm.Blues):\n",
    "    \"\"\"\n",
    "    This function prints and plots the confusion matrix.\n",
    "    Normalization can be applied by setting `normalize=True`.\n",
    "    \"\"\"\n",
    "    plt.imshow(cm, interpolation='nearest', cmap=cmap)\n",
    "    plt.title(title)\n",
    "    plt.colorbar()\n",
    "    tick_marks = np.arange(len(classes))\n",
    "    plt.xticks(tick_marks, classes, rotation=45)\n",
    "    plt.yticks(tick_marks, classes)\n",
    "\n",
    "    if normalize:\n",
    "        cm = cm.astype('float') / cm.sum(axis=1)[:, np.newaxis]\n",
    "        #print(\"Normalized confusion matrix\")\n",
    "    #else:\n",
    "        #print('Confusion matrix, without normalization')\n",
    "\n",
    "    print(cm)\n",
    "\n",
    "    thresh = cm.max() / 2.\n",
    "    for i, j in itertools.product(range(cm.shape[0]), range(cm.shape[1])):\n",
    "        plt.text(j, i, cm[i, j],\n",
    "                 horizontalalignment=\"center\",\n",
    "                 color=\"white\" if cm[i, j] > thresh else \"black\")\n",
    "\n",
    "    plt.tight_layout()\n",
    "    plt.ylabel('True label')\n",
    "    plt.xlabel('Predicted label')"
   ]
  },
  {
   "cell_type": "code",
   "execution_count": 3,
   "metadata": {
    "autoscroll": "json-false",
    "collapsed": false,
    "ein.tags": [
     "worksheet-0"
    ],
    "slideshow": {
     "slide_type": "-"
    }
   },
   "outputs": [
    {
     "data": {
      "text/plain": [
       "Empty DataFrame\n",
       "Columns: []\n",
       "Index: []"
      ]
     },
     "execution_count": 3,
     "metadata": {},
     "output_type": "execute_result"
    },
    {
     "name": "stdout",
     "output_type": "stream",
     "text": [
      "[[ 245  713   80]\n",
      " [ 165 2026  209]\n",
      " [  60  880  548]]\n",
      "Time : 1.588914155960083, Name : Random Forest, Score : (0.57860632889230468, 0.48282568835850581, 0.48984435498604112, None)\n"
     ]
    },
    {
     "name": "stdout",
     "output_type": "stream",
     "text": [
      "[[ 243  731   64]\n",
      " [ 198 2017  185]\n",
      " [  89  918  481]]\n",
      "Time : 0.364469051361084, Name : Decision Tree, Score : (0.55586187314491398, 0.46592446702716139, 0.46956372973220467, None)\n"
     ]
    },
    {
     "name": "stdout",
     "output_type": "stream",
     "text": [
      "[[ 124  676  238]\n",
      " [ 108 1933  359]\n",
      " [  34  798  656]]\n",
      "Time : 66.6706190109253, Name : RBF SVM, Score : (0.51902340802806635, 0.45524579422794043, 0.44486323608879447, None)\n"
     ]
    },
    {
     "name": "stdout",
     "output_type": "stream",
     "text": [
      "[[ 312  538  188]\n",
      " [ 226 1545  629]\n",
      " [  48  566  874]]\n",
      "Time : 0.18983006477355957, Name : Naive Bayes, Score : (0.54417203295759708, 0.51056454202664348, 0.51536575865414913, None)\n"
     ]
    }
   ],
   "source": [
    "classifiers_given = [\n",
    "    GaussianNB(),\n",
    "    SVC(gamma=10, C=1.29),\n",
    "    DecisionTreeClassifier(),\n",
    "    RandomForestClassifier(n_estimators=100, n_jobs=-1)\n",
    "]\n",
    "getResultofAlgo(classifiers_given,np.asarray(X_train).astype(float),y_train,np.asarray(X_test).astype(float),y_test)"
   ]
  },
  {
   "cell_type": "code",
   "execution_count": 9,
   "metadata": {
    "autoscroll": "json-false",
    "collapsed": false,
    "ein.tags": [
     "worksheet-0"
    ],
    "slideshow": {
     "slide_type": "-"
    }
   },
   "outputs": [
    {
     "data": {
      "text/plain": [
       "Empty DataFrame\n",
       "Columns: []\n",
       "Index: []"
      ]
     },
     "execution_count": 9,
     "metadata": {},
     "output_type": "execute_result"
    },
    {
     "name": "stdout",
     "output_type": "stream",
     "text": [
      "[[ 348  629   58]\n",
      " [ 227 1915  255]\n",
      " [  37  770  675]]\n",
      "Time : 9.570441007614136, Name : Random Forest, Score : (0.60989245682432103, 0.53020426063589288, 0.54659361362650616, None)\n"
     ]
    },
    {
     "name": "stdout",
     "output_type": "stream",
     "text": [
      "[[ 356  615   64]\n",
      " [ 267 1874  256]\n",
      " [  68  808  606]]\n",
      "Time : 2.5437278747558594, Name : Decision Tree, Score : (0.57933950862979933, 0.51155961060905175, 0.5246911613072095, None)\n"
     ]
    },
    {
     "name": "stdout",
     "output_type": "stream",
     "text": [
      "[[ 144  863   28]\n",
      " [ 117 2138  142]\n",
      " [  16 1188  278]]\n",
      "Time : 387.02439403533936, Name : RBF SVM, Score : (0.55025854996383894, 0.40622101631028701, 0.38561703141565323, None)\n"
     ]
    },
    {
     "name": "stdout",
     "output_type": "stream",
     "text": [
      "[[ 478   72  485]\n",
      " [ 363  162 1872]\n",
      " [  61   25 1396]]\n",
      "Time : 0.15739703178405762, Name : Naive Bayes, Score : (0.50912839934305687, 0.49046351326146148, 0.38295600229173443, None)\n"
     ]
    }
   ],
   "source": [
    "from sklearn.feature_extraction.text import TfidfTransformer\n",
    "from sklearn.feature_selection import SelectKBest\n",
    "# Feature engineering from raw tweet\n",
    "# Vectorize tweet by word count\n",
    "classifiers_given = [\n",
    "    GaussianNB(),\n",
    "    SVC(gamma=10, C=1.29),\n",
    "    DecisionTreeClassifier(),\n",
    "    RandomForestClassifier(n_estimators=100, n_jobs=-1)\n",
    "]\n",
    "cv = CountVectorizer(min_df = 0.00001,stop_words = 'english',analyzer='word')\n",
    "train_X_Miko = cv.fit_transform(train_df.Tweet)\n",
    "test_X_Miko = cv.transform(test_df.Tweet)\n",
    "\n",
    "tf_fea = TfidfTransformer()\n",
    "train_X_TfFS = tf_fea.fit_transform(train_X_Miko)\n",
    "test_X_TfFS = tf_fea.transform(test_X_Miko)\n",
    "\n",
    "# Feature selection by chi2, select 0.2% of features \n",
    "skb02 = SelectKBest(score_func=chi2,k=200)\n",
    "train_X = skb02.fit_transform(train_X_Miko,train_df.Label)\n",
    "test_X = skb02.transform(test_X_Miko)\n",
    "\n",
    "\n",
    "getResultofAlgo(classifiers_given,train_X,train_df.Label,test_X,test_df.Label)"
   ]
  },
  {
   "cell_type": "code",
   "execution_count": 4,
   "metadata": {
    "autoscroll": "json-false",
    "collapsed": false,
    "ein.tags": [
     "worksheet-0"
    ],
    "slideshow": {
     "slide_type": "-"
    }
   },
   "outputs": [
    {
     "data": {
      "text/plain": [
       "Empty DataFrame\n",
       "Columns: []\n",
       "Index: []"
      ]
     },
     "execution_count": 4,
     "metadata": {},
     "output_type": "execute_result"
    },
    {
     "name": "stdout",
     "output_type": "stream",
     "text": [
      "[[ 248  741   46]\n",
      " [ 135 2118  144]\n",
      " [  29  942  511]]\n",
      "Time : 1.4695889949798584, Name : Random Forest, Score : (0.62937405394725132, 0.48934078356353911, 0.49812917101258264, None)\n"
     ]
    },
    {
     "name": "stdout",
     "output_type": "stream",
     "text": [
      "[[ 212  729   94]\n",
      " [ 132 2095  170]\n",
      " [  28  926  528]]\n",
      "Time : 48.32808709144592, Name : RBF SVM, Score : (0.59840860215053759, 0.47837179988582057, 0.48245455173247209, None)\n",
      "[[ 252  741   42]\n",
      " [ 144 2113  140]\n",
      " [  34  954  494]]\n",
      "Time : 0.1675570011138916, Name : Decision Tree, Score : (0.62390006539288345, 0.4861100530252187, 0.49430742913183973, None)\n"
     ]
    },
    {
     "name": "stdout",
     "output_type": "stream",
     "text": [
      "[[ 275  653  107]\n",
      " [ 162 1720  515]\n",
      " [  32  659  791]]\n",
      "Time : 0.06376099586486816, Name : Naive Bayes, Score : (0.57114603550641774, 0.50566743197262465, 0.51526169630569563, None)\n"
     ]
    },
    {
     "data": {
      "text/plain": [
       "Empty DataFrame\n",
       "Columns: []\n",
       "Index: []"
      ]
     },
     "execution_count": 3,
     "metadata": {},
     "output_type": "execute_result"
    },
    {
     "name": "stdout",
     "output_type": "stream",
     "text": [
      "[[ 247  741   47]\n",
      " [ 141 2110  146]\n",
      " [  28  943  511]]\n",
      "Time : 1.4739761352539062, Name : Random Forest, Score : (0.62524784947524803, 0.48790622063362871, 0.49653669172611475, None)\n"
     ]
    },
    {
     "name": "stdout",
     "output_type": "stream",
     "text": [
      "[[ 212  729   94]\n",
      " [ 132 2095  170]\n",
      " [  28  926  528]]\n",
      "Time : 52.98708891868591, Name : RBF SVM, Score : (0.59840860215053759, 0.47837179988582057, 0.48245455173247209, None)\n",
      "[[ 251  742   42]\n",
      " [ 145 2113  139]\n",
      " [  34  953  495]]\n",
      "Time : 0.17452192306518555, Name : Decision Tree, Score : (0.62361796824137672, 0.48601291311114519, 0.49416129458050762, None)\n"
     ]
    },
    {
     "name": "stdout",
     "output_type": "stream",
     "text": [
      "[[ 275  653  107]\n",
      " [ 162 1720  515]\n",
      " [  32  659  791]]\n",
      "Time : 0.07051396369934082, Name : Naive Bayes, Score : (0.57114603550641774, 0.50566743197262465, 0.51526169630569563, None)\n"
     ]
    }
   ],
   "source": [
    "from sklearn.feature_extraction.text import TfidfTransformer\n",
    "from sklearn.feature_selection import SelectKBest\n",
    "classifiers_given = [\n",
    "    GaussianNB(),\n",
    "    SVC(gamma=10, C=1.29),\n",
    "    DecisionTreeClassifier(),\n",
    "    RandomForestClassifier(n_estimators=100, n_jobs=-1)\n",
    "]\n",
    "cv = CountVectorizer(min_df = 0.00001,stop_words = 'english',analyzer='word')\n",
    "train_X_Miko = cv.fit_transform(train_df.Tweet)\n",
    "test_X_Miko = cv.transform(test_df.Tweet)\n",
    "\n",
    "tf_fea = TfidfTransformer()\n",
    "train_X_TfFS = tf_fea.fit_transform(train_X_Miko)\n",
    "test_X_TfFS = tf_fea.transform(test_X_Miko)\n",
    "\n",
    "skb02 = SelectKBest(score_func=chi2,k=46)\n",
    "train_X = skb02.fit_transform(train_X_Miko,train_df.Label)\n",
    "test_X = skb02.transform(test_X_Miko)\n",
    "\n",
    "\n",
    "getResultofAlgo(classifiers_given,train_X.toarray().astype(float),train_df.Label,test_X.toarray().astype(float),test_df.Label)"
   ]
  },
  {
   "cell_type": "code",
   "execution_count": 7,
   "metadata": {
    "autoscroll": "json-false",
    "collapsed": false,
    "ein.tags": [
     "worksheet-0"
    ],
    "slideshow": {
     "slide_type": "-"
    }
   },
   "outputs": [
    {
     "data": {
      "text/plain": [
       "[('id', 'NUMERIC'),\n",
       " ('a', 'NUMERIC'),\n",
       " ('amazing', 'NUMERIC'),\n",
       " ('antman', 'NUMERIC'),\n",
       " ('are', 'NUMERIC'),\n",
       " ('at', 'NUMERIC'),\n",
       " ('awesome', 'NUMERIC'),\n",
       " ('best', 'NUMERIC'),\n",
       " ('birthday', 'NUMERIC'),\n",
       " ('cant', 'NUMERIC'),\n",
       " ('cream', 'NUMERIC'),\n",
       " ('day', 'NUMERIC'),\n",
       " ('death', 'NUMERIC'),\n",
       " ('drone', 'NUMERIC'),\n",
       " ('excited', 'NUMERIC'),\n",
       " ('fake', 'NUMERIC'),\n",
       " ('fuck', 'NUMERIC'),\n",
       " ('fucking', 'NUMERIC'),\n",
       " ('good', 'NUMERIC'),\n",
       " ('great', 'NUMERIC'),\n",
       " ('gucci', 'NUMERIC'),\n",
       " ('happy', 'NUMERIC'),\n",
       " ('hate', 'NUMERIC'),\n",
       " ('i', 'NUMERIC'),\n",
       " ('ice', 'NUMERIC'),\n",
       " ('im', 'NUMERIC'),\n",
       " ('is', 'NUMERIC'),\n",
       " ('leftists', 'NUMERIC'),\n",
       " ('liberals', 'NUMERIC'),\n",
       " ('love', 'NUMERIC'),\n",
       " ('my', 'NUMERIC'),\n",
       " ('national', 'NUMERIC'),\n",
       " ('nazi', 'NUMERIC'),\n",
       " ('night', 'NUMERIC'),\n",
       " ('not', 'NUMERIC'),\n",
       " ('obama', 'NUMERIC'),\n",
       " ('people', 'NUMERIC'),\n",
       " ('racist', 'NUMERIC'),\n",
       " ('see', 'NUMERIC'),\n",
       " ('shit', 'NUMERIC'),\n",
       " ('so', 'NUMERIC'),\n",
       " ('stupid', 'NUMERIC'),\n",
       " ('supremacists', 'NUMERIC'),\n",
       " ('th', 'NUMERIC'),\n",
       " ('they', 'NUMERIC'),\n",
       " ('tomorrow', 'NUMERIC'),\n",
       " ('trump', 'NUMERIC'),\n",
       " ('sentiment', ['positive', 'negative', 'neutral'])]"
      ]
     },
     "execution_count": 7,
     "metadata": {},
     "output_type": "execute_result"
    },
    {
     "name": "stdout",
     "output_type": "stream",
     "text": [
      "['alt' 'amazing' 'ant' 'anti' 'awesome' 'best' 'birthday' 'conservatives'\n",
      " 'cream' 'day' 'death' 'dog' 'drone' 'excited' 'fake' 'friday' 'fuck' 'fun'\n",
      " 'good' 'great' 'happy' 'hate' 'hot' 'http' 'https' 'ice' 'killed'\n",
      " 'leftists' 'liberals' 'love' 'muslims' 'national' 'nazi' 'night' 'obama'\n",
      " 'people' 'racist' 'rightists' 'shit' 'stupid' 'supremacists' 'thank'\n",
      " 'tomorrow' 'trump' 'wait' 'worst']\n"
     ]
    }
   ],
   "source": [
    "fe = np.asarray(cv.get_feature_names())[skb02.get_support()]\n",
    "print(fe)\n",
    "train_dataset['attributes']"
   ]
  },
  {
   "cell_type": "code",
   "execution_count": 9,
   "metadata": {
    "autoscroll": "json-false",
    "collapsed": false,
    "ein.tags": [
     "worksheet-0"
    ],
    "slideshow": {
     "slide_type": "-"
    }
   },
   "outputs": [
    {
     "data": {
      "text/plain": [
       "(46,)"
      ]
     },
     "execution_count": 9,
     "metadata": {},
     "output_type": "execute_result"
    }
   ],
   "source": [
    "given.shape"
   ]
  },
  {
   "cell_type": "code",
   "execution_count": 5,
   "metadata": {
    "autoscroll": "json-false",
    "collapsed": false,
    "ein.tags": [
     "worksheet-0"
    ],
    "slideshow": {
     "slide_type": "-"
    }
   },
   "outputs": [
    {
     "data": {
      "text/plain": [
       "array(['alt', 'amazing', 'ant', 'anti', 'ass', 'awesome', 'band',\n",
       "       'beautiful', 'best', 'birthday', 'bitch', 'bless', 'boko', 'brown',\n",
       "       'celebrate', 'conservatives', 'cream', 'day', 'death', 'dog',\n",
       "       'drone', 'enjoy', 'enjoyed', 'excited', 'fake', 'fantastic',\n",
       "       'fantasticbeasts', 'fatty', 'favorite', 'fighters', 'foo', 'friday',\n",
       "       'fuck', 'fucking', 'fun', 'good', 'great', 'happy', 'haram', 'hate',\n",
       "       'hillary', 'hot', 'http', 'ice', 'idiot', 'incredible', 'ira',\n",
       "       'jackson', 'janet', 'kill', 'killed', 'leftists', 'liberals',\n",
       "       'lies', 'liked', 'love', 'loved', 'medicare', 'melania', 'muslims',\n",
       "       'national', 'nazi', 'nazis', 'nice', 'night', 'obama', 'paper',\n",
       "       'penalty', 'people', 'perfect', 'prince', 'racist', 'rightists',\n",
       "       'shit', 'soros', 'stupid', 'sucks', 'supremacists', 'terrorist',\n",
       "       'thank', 'thankyouobama', 'tomorrow', 'towns', 'trump', 'wait',\n",
       "       'wars', 'worse', 'worst', 'yakub', 'zac'], \n",
       "      dtype='<U78')"
      ]
     },
     "execution_count": 5,
     "metadata": {},
     "output_type": "execute_result"
    }
   ],
   "source": [
    "#features by tfidf vectorizer\n",
    "np.asarray(tf.get_feature_names())[skb02_Tf.get_support()]"
   ]
  },
  {
   "cell_type": "code",
   "execution_count": 7,
   "metadata": {
    "autoscroll": "json-false",
    "collapsed": false,
    "ein.tags": [
     "worksheet-0"
    ],
    "slideshow": {
     "slide_type": "-"
    }
   },
   "outputs": [],
   "source": []
  },
  {
   "cell_type": "code",
   "execution_count": 7,
   "metadata": {
    "autoscroll": "json-false",
    "collapsed": false,
    "ein.tags": [
     "worksheet-0"
    ],
    "slideshow": {
     "slide_type": "-"
    }
   },
   "outputs": [],
   "source": []
  },
  {
   "cell_type": "code",
   "execution_count": 7,
   "metadata": {
    "autoscroll": "json-false",
    "collapsed": false,
    "ein.tags": [
     "worksheet-0"
    ],
    "slideshow": {
     "slide_type": "-"
    }
   },
   "outputs": [],
   "source": []
  },
  {
   "cell_type": "code",
   "execution_count": 24,
   "metadata": {
    "autoscroll": "json-false",
    "collapsed": false,
    "ein.tags": [
     "worksheet-0"
    ],
    "slideshow": {
     "slide_type": "-"
    }
   },
   "outputs": [],
   "source": []
  },
  {
   "cell_type": "code",
   "execution_count": 0,
   "metadata": {
    "autoscroll": "json-false",
    "collapsed": false,
    "ein.tags": [
     "worksheet-0"
    ],
    "slideshow": {
     "slide_type": "-"
    }
   },
   "outputs": [],
   "source": []
  },
  {
   "cell_type": "code",
   "execution_count": 7,
   "metadata": {
    "autoscroll": "json-false",
    "collapsed": false,
    "ein.tags": [
     "worksheet-0"
    ],
    "slideshow": {
     "slide_type": "-"
    }
   },
   "outputs": [],
   "source": [
    "\n"
   ]
  },
  {
   "cell_type": "code",
   "execution_count": 7,
   "metadata": {
    "autoscroll": "json-false",
    "collapsed": false,
    "ein.tags": [
     "worksheet-0"
    ],
    "slideshow": {
     "slide_type": "-"
    }
   },
   "outputs": [],
   "source": []
  },
  {
   "cell_type": "code",
   "execution_count": 59,
   "metadata": {
    "autoscroll": "json-false",
    "collapsed": false,
    "ein.tags": [
     "worksheet-0"
    ],
    "slideshow": {
     "slide_type": "-"
    }
   },
   "outputs": [],
   "source": [
    "\n"
   ]
  },
  {
   "cell_type": "code",
   "execution_count": 6,
   "metadata": {
    "autoscroll": "json-false",
    "collapsed": false,
    "ein.tags": [
     "worksheet-0"
    ],
    "slideshow": {
     "slide_type": "-"
    }
   },
   "outputs": [
    {
     "data": {
      "text/plain": [
       "(4914, 225225)"
      ]
     },
     "execution_count": 6,
     "metadata": {},
     "output_type": "execute_result"
    }
   ],
   "source": [
    "test_X_TfFS.shape"
   ]
  },
  {
   "cell_type": "code",
   "execution_count": 3,
   "metadata": {
    "autoscroll": "json-false",
    "collapsed": false,
    "ein.tags": [
     "worksheet-0"
    ],
    "slideshow": {
     "slide_type": "-"
    }
   },
   "outputs": [],
   "source": [
    "classifiers_given = [\n",
    "    GaussianNB(),\n",
    "    SVC(gamma=10, C=1.29),\n",
    "    DecisionTreeClassifier(),\n",
    "    RandomForestClassifier(n_estimators=100, n_jobs=-1)\n",
    "]\n",
    "from sklearn.feature_extraction.text import TfidfTransformer\n",
    "cv = CountVectorizer(min_df = 0.00001,stop_words = 'english',analyzer='word',ngram_range=(1,2))\n",
    "train_X_Miko = cv.fit_transform(train_df.Tweet)\n",
    "test_X_Miko = cv.transform(test_df.Tweet)\n",
    "\n",
    "\n",
    "\n",
    "tf_fea = TfidfTransformer()\n",
    "train_X_TfFS = tf_fea.fit_transform(train_X_Miko)\n",
    "test_X_TfFS = tf_fea.transform(test_X_Miko)\n"
   ]
  },
  {
   "cell_type": "code",
   "execution_count": 23,
   "metadata": {
    "autoscroll": "json-false",
    "collapsed": false,
    "ein.tags": [
     "worksheet-0"
    ],
    "slideshow": {
     "slide_type": "-"
    }
   },
   "outputs": [
    {
     "name": "stdout",
     "output_type": "stream",
     "text": [
      "(0.60657800433177556, 0.59993350867481265, 0.60241954124915464, None)\n"
     ]
    },
    {
     "name": "stdout",
     "output_type": "stream",
     "text": [
      "(0.6072846261984286, 0.6031325774415498, 0.60484727724765464, None)\n"
     ]
    },
    {
     "name": "stdout",
     "output_type": "stream",
     "text": [
      "(0.60814882065587328, 0.60487419293251443, 0.60607203399090837, None)\n"
     ]
    },
    {
     "name": "stdout",
     "output_type": "stream",
     "text": [
      "(0.60852006009683091, 0.60628914069924411, 0.60704554513608355, None)\n"
     ]
    },
    {
     "name": "stdout",
     "output_type": "stream",
     "text": [
      "(0.60774330714673763, 0.60725385287811628, 0.60707049587122874, None)\n"
     ]
    },
    {
     "name": "stdout",
     "output_type": "stream",
     "text": [
      "(0.60789081496831177, 0.61003124700371936, 0.60846814058996712, None)\n"
     ]
    },
    {
     "name": "stdout",
     "output_type": "stream",
     "text": [
      "(0.60550778196777344, 0.6096835528898138, 0.60705658999138123, None)\n"
     ]
    },
    {
     "name": "stdout",
     "output_type": "stream",
     "text": [
      "(0.60678834128140036, 0.6133938952092296, 0.60915933055681826, None)\n"
     ]
    },
    {
     "name": "stdout",
     "output_type": "stream",
     "text": [
      "(0.60600756242362031, 0.61559586459814408, 0.60970040589830621, None)\n"
     ]
    },
    {
     "name": "stdout",
     "output_type": "stream",
     "text": [
      "(0.60166679024261305, 0.61689798849141075, 0.60787163896553731, None)\n"
     ]
    },
    {
     "name": "stdout",
     "output_type": "stream",
     "text": [
      "(0.59957721686455834, 0.61876540898038135, 0.60731130987236781, None)\n"
     ]
    },
    {
     "name": "stdout",
     "output_type": "stream",
     "text": [
      "(0.59473419434068175, 0.61660034528647811, 0.60342426843647201, None)\n"
     ]
    },
    {
     "name": "stdout",
     "output_type": "stream",
     "text": [
      "(0.59458424355850481, 0.61983508845400037, 0.60436074440573639, None)\n"
     ]
    },
    {
     "name": "stdout",
     "output_type": "stream",
     "text": [
      "(0.5970611502168397, 0.62719636533203282, 0.60825921384306103, None)\n"
     ]
    },
    {
     "name": "stdout",
     "output_type": "stream",
     "text": [
      "(0.59609453663520107, 0.63131715788932974, 0.60859044630639048, None)\n"
     ]
    },
    {
     "name": "stdout",
     "output_type": "stream",
     "text": [
      "(0.59052595236440608, 0.63239505630197523, 0.60463217996583696, None)\n"
     ]
    },
    {
     "name": "stdout",
     "output_type": "stream",
     "text": [
      "(0.5866374289812627, 0.63807656785154476, 0.60258583485776551, None)\n"
     ]
    },
    {
     "name": "stdout",
     "output_type": "stream",
     "text": [
      "(0.57920901488690746, 0.6370865606299897, 0.59607706310096331, None)\n"
     ]
    },
    {
     "name": "stdout",
     "output_type": "stream",
     "text": [
      "(0.57311076836226982, 0.63501867082046159, 0.5901917400289457, None)\n"
     ]
    },
    {
     "name": "stdout",
     "output_type": "stream",
     "text": [
      "(0.5630877212238925, 0.63517922679294225, 0.58083758755543891, None)\n"
     ]
    },
    {
     "name": "stdout",
     "output_type": "stream",
     "text": [
      "(0.5620457071401187, 0.6449906935287123, 0.58084343397791172, None)\n"
     ]
    },
    {
     "name": "stdout",
     "output_type": "stream",
     "text": [
      "(0.54167871440348758, 0.64462081768008417, 0.55945051474630614, None)\n"
     ]
    },
    {
     "name": "stdout",
     "output_type": "stream",
     "text": [
      "(0.52297857881754239, 0.65386635560750239, 0.53774181780729147, None)\n"
     ]
    },
    {
     "name": "stdout",
     "output_type": "stream",
     "text": [
      "(0.44145228851025281, 0.6674013083366277, 0.41863235962786632, None)\n"
     ]
    }
   ],
   "source": [
    "p = [0.01,0.04,0.07,0.1,0.13,0.16,0.19,0.22,0.25,0.28,0.31,0.34,0.37,0.4,0.43,0.46,0.49,0.52,0.55,0.58,0.61,0.64,0.67,0.7]\n",
    "svm = SVC(gamma=10, C=1.29)\n",
    "res = []\n",
    "for _ in p:\n",
    "    skb02 = SelectPercentile(score_func=chi2,percentile = _)\n",
    "    train_X = skb02.fit_transform(train_X_TfFS,train_df.Label)\n",
    "    test_X = skb02.transform(test_X_TfFS)\n",
    "    y_pred = svm.fit(train_X,train_df.Label).predict(test_X)\n",
    "    res.append(precision_recall_fscore_support(y_pred,test_df.Label,average = 'macro'))\n",
    "    print(res[-1])\n"
   ]
  },
  {
   "cell_type": "code",
   "execution_count": 24,
   "metadata": {
    "autoscroll": "json-false",
    "collapsed": false,
    "ein.tags": [
     "worksheet-0"
    ],
    "slideshow": {
     "slide_type": "-"
    }
   },
   "outputs": [],
   "source": [
    "y_pre = []\n",
    "for i in range(len(res)):\n",
    "    y_pre.append(res[i][0])\n",
    "y_rec = []\n",
    "for i in range(len(res)):\n",
    "    y_rec.append(res[i][1])\n",
    "y_fs = []\n",
    "for i in range(len(res)):\n",
    "    y_fs.append(res[i][2])"
   ]
  },
  {
   "cell_type": "code",
   "execution_count": 33,
   "metadata": {
    "autoscroll": "json-false",
    "collapsed": false,
    "ein.tags": [
     "worksheet-0"
    ],
    "slideshow": {
     "slide_type": "-"
    }
   },
   "outputs": [
    {
     "data": {
      "image/png": "[encoded data removed]",
      "text/plain": [
       "<matplotlib.figure.Figure at 0x11ccc14a8>"
      ]
     },
     "metadata": {},
     "output_type": "display_data"
    }
   ],
   "source": [
    "plt.figure()\n",
    "plt1=plt.plot(p,y_pre,'r',Label='precision')\n",
    "plt2=plt.plot(p,y_rec,'b',Label='recall')\n",
    "plt3=plt.plot(p,y_fs,'g',Label='fscore')\n",
    "plt.grid()\n",
    "plt.xlabel(\"percentage of features\")\n",
    "plt.legend(bbox_to_anchor=(1.05, 1), loc=2, borderaxespad=0.)\n",
    "plt.savefig(\"performance.png\",bbox_inches='tight')\n",
    "plt.show()"
   ]
  },
  {
   "cell_type": "code",
   "execution_count": 5,
   "metadata": {
    "autoscroll": "json-false",
    "collapsed": false,
    "ein.tags": [
     "worksheet-0"
    ],
    "slideshow": {
     "slide_type": "-"
    }
   },
   "outputs": [
    {
     "data": {
      "text/plain": [
       "Empty DataFrame\n",
       "Columns: []\n",
       "Index: []"
      ]
     },
     "execution_count": 5,
     "metadata": {},
     "output_type": "execute_result"
    },
    {
     "name": "stdout",
     "output_type": "stream",
     "text": [
      "[[ 370  531  134]\n",
      " [ 263 1619  515]\n",
      " [  40  597  845]]\n",
      "Time : 56.011667013168335, Name : Random Forest, Score : (0.56824768521446645, 0.53436365971915267, 0.54353428067424259, None)\n"
     ]
    },
    {
     "name": "stdout",
     "output_type": "stream",
     "text": [
      "[[ 329  539  167]\n",
      " [ 317 1488  592]\n",
      " [ 104  603  775]]\n",
      "Time : 36.55060696601868, Name : Decision Tree, Score : (0.50322041940215556, 0.48719744546937011, 0.49151878774539126, None)\n"
     ]
    },
    {
     "name": "stdout",
     "output_type": "stream",
     "text": [
      "[[ 589  368   78]\n",
      " [ 390 1627  380]\n",
      " [  64  573  845]]\n",
      "Time : 1251.2339689731598, Name : RBF SVM, Score : (0.61559586459814408, 0.60600756242362031, 0.60970040589830621, None)\n"
     ]
    },
    {
     "name": "stdout",
     "output_type": "stream",
     "text": [
      "[[ 491  324  220]\n",
      " [ 313  784 1300]\n",
      " [  39  162 1281]]\n",
      "Time : 0.7234699726104736, Name : Naive Bayes, Score : (0.55236771791343853, 0.55528137198560468, 0.51622434545185547, None)\n"
     ]
    }
   ],
   "source": [
    "    skb02 = SelectPercentile(score_func=chi2,percentile = 0.46)\n",
    "    train_X = skb02.fit_transform(train_X_TfFS,train_df.Label)\n",
    "    test_X = skb02.transform(test_X_TfFS)\n",
    "getResultofAlgo(classifiers_given,train_X.toarray(),train_df.Label,test_X.toarray(),test_df.Label)"
   ]
  },
  {
   "cell_type": "code",
   "execution_count": 0,
   "metadata": {
    "autoscroll": "json-false",
    "collapsed": false,
    "ein.tags": [
     "worksheet-0"
    ],
    "slideshow": {
     "slide_type": "-"
    }
   },
   "outputs": [],
   "source": []
  },
  {
   "cell_type": "code",
   "execution_count": 0,
   "metadata": {
    "autoscroll": "json-false",
    "collapsed": false,
    "ein.tags": [
     "worksheet-0"
    ],
    "slideshow": {
     "slide_type": "-"
    }
   },
   "outputs": [],
   "source": []
  },
  {
   "cell_type": "code",
   "execution_count": 8,
   "metadata": {
    "autoscroll": "json-false",
    "collapsed": false,
    "ein.tags": [
     "worksheet-0"
    ],
    "slideshow": {
     "slide_type": "-"
    }
   },
   "outputs": [
    {
     "ename": "KeyboardInterrupt",
     "evalue": "",
     "output_type": "error",
     "traceback": [
      "\u001b[0;31m---------------------------------------------------------------------------\u001b[0m",
      "\u001b[0;31mKeyboardInterrupt\u001b[0m                         Traceback (most recent call last)",
      "\u001b[0;32m<ipython-input-8-2ca20a130f31>\u001b[0m in \u001b[0;36m<module>\u001b[0;34m()\u001b[0m\n\u001b[1;32m      5\u001b[0m \u001b[0mparam_grid\u001b[0m \u001b[0;34m=\u001b[0m \u001b[0mdict\u001b[0m\u001b[0;34m(\u001b[0m\u001b[0mgamma\u001b[0m\u001b[0;34m=\u001b[0m\u001b[0mgamma_range\u001b[0m\u001b[0;34m,\u001b[0m \u001b[0mC\u001b[0m\u001b[0;34m=\u001b[0m\u001b[0mC_range\u001b[0m\u001b[0;34m)\u001b[0m\u001b[0;34m\u001b[0m\u001b[0m\n\u001b[1;32m      6\u001b[0m \u001b[0mgrid\u001b[0m \u001b[0;34m=\u001b[0m \u001b[0mGridSearchCV\u001b[0m\u001b[0;34m(\u001b[0m\u001b[0mSVC\u001b[0m\u001b[0;34m(\u001b[0m\u001b[0;34m)\u001b[0m\u001b[0;34m,\u001b[0m \u001b[0mparam_grid\u001b[0m\u001b[0;34m=\u001b[0m\u001b[0mparam_grid\u001b[0m\u001b[0;34m,\u001b[0m\u001b[0mn_jobs\u001b[0m\u001b[0;34m=\u001b[0m\u001b[0;34m-\u001b[0m\u001b[0;36m1\u001b[0m\u001b[0;34m,\u001b[0m\u001b[0mcv\u001b[0m\u001b[0;34m=\u001b[0m \u001b[0mcv\u001b[0m\u001b[0;34m)\u001b[0m\u001b[0;34m\u001b[0m\u001b[0m\n\u001b[0;32m----> 7\u001b[0;31m \u001b[0mgrid\u001b[0m\u001b[0;34m.\u001b[0m\u001b[0mfit\u001b[0m\u001b[0;34m(\u001b[0m\u001b[0mtrain_X\u001b[0m\u001b[0;34m,\u001b[0m \u001b[0mtrain_df\u001b[0m\u001b[0;34m.\u001b[0m\u001b[0mLabel\u001b[0m\u001b[0;34m)\u001b[0m\u001b[0;34m\u001b[0m\u001b[0m\n\u001b[0m\u001b[1;32m      8\u001b[0m \u001b[0;34m\u001b[0m\u001b[0m\n\u001b[1;32m      9\u001b[0m print(\"The best parameters are %s with a score of %0.2f\"\n",
      "\u001b[0;32m/Library/Frameworks/Python.framework/Versions/3.5/lib/python3.5/site-packages/sklearn/model_selection/_search.py\u001b[0m in \u001b[0;36mfit\u001b[0;34m(self, X, y, groups)\u001b[0m\n\u001b[1;32m    943\u001b[0m             \u001b[0mtrain\u001b[0m\u001b[0;34m/\u001b[0m\u001b[0mtest\u001b[0m \u001b[0mset\u001b[0m\u001b[0;34m.\u001b[0m\u001b[0;34m\u001b[0m\u001b[0m\n\u001b[1;32m    944\u001b[0m         \"\"\"\n\u001b[0;32m--> 945\u001b[0;31m         \u001b[0;32mreturn\u001b[0m \u001b[0mself\u001b[0m\u001b[0;34m.\u001b[0m\u001b[0m_fit\u001b[0m\u001b[0;34m(\u001b[0m\u001b[0mX\u001b[0m\u001b[0;34m,\u001b[0m \u001b[0my\u001b[0m\u001b[0;34m,\u001b[0m \u001b[0mgroups\u001b[0m\u001b[0;34m,\u001b[0m \u001b[0mParameterGrid\u001b[0m\u001b[0;34m(\u001b[0m\u001b[0mself\u001b[0m\u001b[0;34m.\u001b[0m\u001b[0mparam_grid\u001b[0m\u001b[0;34m)\u001b[0m\u001b[0;34m)\u001b[0m\u001b[0;34m\u001b[0m\u001b[0m\n\u001b[0m\u001b[1;32m    946\u001b[0m \u001b[0;34m\u001b[0m\u001b[0m\n\u001b[1;32m    947\u001b[0m \u001b[0;34m\u001b[0m\u001b[0m\n",
      "\u001b[0;32m/Library/Frameworks/Python.framework/Versions/3.5/lib/python3.5/site-packages/sklearn/model_selection/_search.py\u001b[0m in \u001b[0;36m_fit\u001b[0;34m(self, X, y, groups, parameter_iterable)\u001b[0m\n\u001b[1;32m    562\u001b[0m                                   \u001b[0mreturn_times\u001b[0m\u001b[0;34m=\u001b[0m\u001b[0;32mTrue\u001b[0m\u001b[0;34m,\u001b[0m \u001b[0mreturn_parameters\u001b[0m\u001b[0;34m=\u001b[0m\u001b[0;32mTrue\u001b[0m\u001b[0;34m,\u001b[0m\u001b[0;34m\u001b[0m\u001b[0m\n\u001b[1;32m    563\u001b[0m                                   error_score=self.error_score)\n\u001b[0;32m--> 564\u001b[0;31m           \u001b[0;32mfor\u001b[0m \u001b[0mparameters\u001b[0m \u001b[0;32min\u001b[0m \u001b[0mparameter_iterable\u001b[0m\u001b[0;34m\u001b[0m\u001b[0m\n\u001b[0m\u001b[1;32m    565\u001b[0m           for train, test in cv_iter)\n\u001b[1;32m    566\u001b[0m \u001b[0;34m\u001b[0m\u001b[0m\n",
      "\u001b[0;32m/Library/Frameworks/Python.framework/Versions/3.5/lib/python3.5/site-packages/sklearn/externals/joblib/parallel.py\u001b[0m in \u001b[0;36m__call__\u001b[0;34m(self, iterable)\u001b[0m\n\u001b[1;32m    766\u001b[0m                 \u001b[0;31m# consumption.\u001b[0m\u001b[0;34m\u001b[0m\u001b[0;34m\u001b[0m\u001b[0m\n\u001b[1;32m    767\u001b[0m                 \u001b[0mself\u001b[0m\u001b[0;34m.\u001b[0m\u001b[0m_iterating\u001b[0m \u001b[0;34m=\u001b[0m \u001b[0;32mFalse\u001b[0m\u001b[0;34m\u001b[0m\u001b[0m\n\u001b[0;32m--> 768\u001b[0;31m             \u001b[0mself\u001b[0m\u001b[0;34m.\u001b[0m\u001b[0mretrieve\u001b[0m\u001b[0;34m(\u001b[0m\u001b[0;34m)\u001b[0m\u001b[0;34m\u001b[0m\u001b[0m\n\u001b[0m\u001b[1;32m    769\u001b[0m             \u001b[0;31m# Make sure that we get a last message telling us we are done\u001b[0m\u001b[0;34m\u001b[0m\u001b[0;34m\u001b[0m\u001b[0m\n\u001b[1;32m    770\u001b[0m             \u001b[0melapsed_time\u001b[0m \u001b[0;34m=\u001b[0m \u001b[0mtime\u001b[0m\u001b[0;34m.\u001b[0m\u001b[0mtime\u001b[0m\u001b[0;34m(\u001b[0m\u001b[0;34m)\u001b[0m \u001b[0;34m-\u001b[0m \u001b[0mself\u001b[0m\u001b[0;34m.\u001b[0m\u001b[0m_start_time\u001b[0m\u001b[0;34m\u001b[0m\u001b[0m\n",
      "\u001b[0;32m/Library/Frameworks/Python.framework/Versions/3.5/lib/python3.5/site-packages/sklearn/externals/joblib/parallel.py\u001b[0m in \u001b[0;36mretrieve\u001b[0;34m(self)\u001b[0m\n\u001b[1;32m    717\u001b[0m                     \u001b[0mensure_ready\u001b[0m \u001b[0;34m=\u001b[0m \u001b[0mself\u001b[0m\u001b[0;34m.\u001b[0m\u001b[0m_managed_backend\u001b[0m\u001b[0;34m\u001b[0m\u001b[0m\n\u001b[1;32m    718\u001b[0m                     \u001b[0mbackend\u001b[0m\u001b[0;34m.\u001b[0m\u001b[0mabort_everything\u001b[0m\u001b[0;34m(\u001b[0m\u001b[0mensure_ready\u001b[0m\u001b[0;34m=\u001b[0m\u001b[0mensure_ready\u001b[0m\u001b[0;34m)\u001b[0m\u001b[0;34m\u001b[0m\u001b[0m\n\u001b[0;32m--> 719\u001b[0;31m                 \u001b[0;32mraise\u001b[0m \u001b[0mexception\u001b[0m\u001b[0;34m\u001b[0m\u001b[0m\n\u001b[0m\u001b[1;32m    720\u001b[0m \u001b[0;34m\u001b[0m\u001b[0m\n\u001b[1;32m    721\u001b[0m     \u001b[0;32mdef\u001b[0m \u001b[0m__call__\u001b[0m\u001b[0;34m(\u001b[0m\u001b[0mself\u001b[0m\u001b[0;34m,\u001b[0m \u001b[0miterable\u001b[0m\u001b[0;34m)\u001b[0m\u001b[0;34m:\u001b[0m\u001b[0;34m\u001b[0m\u001b[0m\n",
      "\u001b[0;32m/Library/Frameworks/Python.framework/Versions/3.5/lib/python3.5/site-packages/sklearn/externals/joblib/parallel.py\u001b[0m in \u001b[0;36mretrieve\u001b[0;34m(self)\u001b[0m\n\u001b[1;32m    680\u001b[0m                 \u001b[0;31m# check if timeout supported in backend future implementation\u001b[0m\u001b[0;34m\u001b[0m\u001b[0;34m\u001b[0m\u001b[0m\n\u001b[1;32m    681\u001b[0m                 \u001b[0;32mif\u001b[0m \u001b[0;34m'timeout'\u001b[0m \u001b[0;32min\u001b[0m \u001b[0mgetfullargspec\u001b[0m\u001b[0;34m(\u001b[0m\u001b[0mjob\u001b[0m\u001b[0;34m.\u001b[0m\u001b[0mget\u001b[0m\u001b[0;34m)\u001b[0m\u001b[0;34m.\u001b[0m\u001b[0margs\u001b[0m\u001b[0;34m:\u001b[0m\u001b[0;34m\u001b[0m\u001b[0m\n\u001b[0;32m--> 682\u001b[0;31m                     \u001b[0mself\u001b[0m\u001b[0;34m.\u001b[0m\u001b[0m_output\u001b[0m\u001b[0;34m.\u001b[0m\u001b[0mextend\u001b[0m\u001b[0;34m(\u001b[0m\u001b[0mjob\u001b[0m\u001b[0;34m.\u001b[0m\u001b[0mget\u001b[0m\u001b[0;34m(\u001b[0m\u001b[0mtimeout\u001b[0m\u001b[0;34m=\u001b[0m\u001b[0mself\u001b[0m\u001b[0;34m.\u001b[0m\u001b[0mtimeout\u001b[0m\u001b[0;34m)\u001b[0m\u001b[0;34m)\u001b[0m\u001b[0;34m\u001b[0m\u001b[0m\n\u001b[0m\u001b[1;32m    683\u001b[0m                 \u001b[0;32melse\u001b[0m\u001b[0;34m:\u001b[0m\u001b[0;34m\u001b[0m\u001b[0m\n\u001b[1;32m    684\u001b[0m                     \u001b[0mself\u001b[0m\u001b[0;34m.\u001b[0m\u001b[0m_output\u001b[0m\u001b[0;34m.\u001b[0m\u001b[0mextend\u001b[0m\u001b[0;34m(\u001b[0m\u001b[0mjob\u001b[0m\u001b[0;34m.\u001b[0m\u001b[0mget\u001b[0m\u001b[0;34m(\u001b[0m\u001b[0;34m)\u001b[0m\u001b[0;34m)\u001b[0m\u001b[0;34m\u001b[0m\u001b[0m\n",
      "\u001b[0;32m/Library/Frameworks/Python.framework/Versions/3.5/lib/python3.5/multiprocessing/pool.py\u001b[0m in \u001b[0;36mget\u001b[0;34m(self, timeout)\u001b[0m\n\u001b[1;32m    600\u001b[0m \u001b[0;34m\u001b[0m\u001b[0m\n\u001b[1;32m    601\u001b[0m     \u001b[0;32mdef\u001b[0m \u001b[0mget\u001b[0m\u001b[0;34m(\u001b[0m\u001b[0mself\u001b[0m\u001b[0;34m,\u001b[0m \u001b[0mtimeout\u001b[0m\u001b[0;34m=\u001b[0m\u001b[0;32mNone\u001b[0m\u001b[0;34m)\u001b[0m\u001b[0;34m:\u001b[0m\u001b[0;34m\u001b[0m\u001b[0m\n\u001b[0;32m--> 602\u001b[0;31m         \u001b[0mself\u001b[0m\u001b[0;34m.\u001b[0m\u001b[0mwait\u001b[0m\u001b[0;34m(\u001b[0m\u001b[0mtimeout\u001b[0m\u001b[0;34m)\u001b[0m\u001b[0;34m\u001b[0m\u001b[0m\n\u001b[0m\u001b[1;32m    603\u001b[0m         \u001b[0;32mif\u001b[0m \u001b[0;32mnot\u001b[0m \u001b[0mself\u001b[0m\u001b[0;34m.\u001b[0m\u001b[0mready\u001b[0m\u001b[0;34m(\u001b[0m\u001b[0;34m)\u001b[0m\u001b[0;34m:\u001b[0m\u001b[0;34m\u001b[0m\u001b[0m\n\u001b[1;32m    604\u001b[0m             \u001b[0;32mraise\u001b[0m \u001b[0mTimeoutError\u001b[0m\u001b[0;34m\u001b[0m\u001b[0m\n",
      "\u001b[0;32m/Library/Frameworks/Python.framework/Versions/3.5/lib/python3.5/multiprocessing/pool.py\u001b[0m in \u001b[0;36mwait\u001b[0;34m(self, timeout)\u001b[0m\n\u001b[1;32m    597\u001b[0m \u001b[0;34m\u001b[0m\u001b[0m\n\u001b[1;32m    598\u001b[0m     \u001b[0;32mdef\u001b[0m \u001b[0mwait\u001b[0m\u001b[0;34m(\u001b[0m\u001b[0mself\u001b[0m\u001b[0;34m,\u001b[0m \u001b[0mtimeout\u001b[0m\u001b[0;34m=\u001b[0m\u001b[0;32mNone\u001b[0m\u001b[0;34m)\u001b[0m\u001b[0;34m:\u001b[0m\u001b[0;34m\u001b[0m\u001b[0m\n\u001b[0;32m--> 599\u001b[0;31m         \u001b[0mself\u001b[0m\u001b[0;34m.\u001b[0m\u001b[0m_event\u001b[0m\u001b[0;34m.\u001b[0m\u001b[0mwait\u001b[0m\u001b[0;34m(\u001b[0m\u001b[0mtimeout\u001b[0m\u001b[0;34m)\u001b[0m\u001b[0;34m\u001b[0m\u001b[0m\n\u001b[0m\u001b[1;32m    600\u001b[0m \u001b[0;34m\u001b[0m\u001b[0m\n\u001b[1;32m    601\u001b[0m     \u001b[0;32mdef\u001b[0m \u001b[0mget\u001b[0m\u001b[0;34m(\u001b[0m\u001b[0mself\u001b[0m\u001b[0;34m,\u001b[0m \u001b[0mtimeout\u001b[0m\u001b[0;34m=\u001b[0m\u001b[0;32mNone\u001b[0m\u001b[0;34m)\u001b[0m\u001b[0;34m:\u001b[0m\u001b[0;34m\u001b[0m\u001b[0m\n",
      "\u001b[0;32m/Library/Frameworks/Python.framework/Versions/3.5/lib/python3.5/threading.py\u001b[0m in \u001b[0;36mwait\u001b[0;34m(self, timeout)\u001b[0m\n\u001b[1;32m    547\u001b[0m             \u001b[0msignaled\u001b[0m \u001b[0;34m=\u001b[0m \u001b[0mself\u001b[0m\u001b[0;34m.\u001b[0m\u001b[0m_flag\u001b[0m\u001b[0;34m\u001b[0m\u001b[0m\n\u001b[1;32m    548\u001b[0m             \u001b[0;32mif\u001b[0m \u001b[0;32mnot\u001b[0m \u001b[0msignaled\u001b[0m\u001b[0;34m:\u001b[0m\u001b[0;34m\u001b[0m\u001b[0m\n\u001b[0;32m--> 549\u001b[0;31m                 \u001b[0msignaled\u001b[0m \u001b[0;34m=\u001b[0m \u001b[0mself\u001b[0m\u001b[0;34m.\u001b[0m\u001b[0m_cond\u001b[0m\u001b[0;34m.\u001b[0m\u001b[0mwait\u001b[0m\u001b[0;34m(\u001b[0m\u001b[0mtimeout\u001b[0m\u001b[0;34m)\u001b[0m\u001b[0;34m\u001b[0m\u001b[0m\n\u001b[0m\u001b[1;32m    550\u001b[0m             \u001b[0;32mreturn\u001b[0m \u001b[0msignaled\u001b[0m\u001b[0;34m\u001b[0m\u001b[0m\n\u001b[1;32m    551\u001b[0m \u001b[0;34m\u001b[0m\u001b[0m\n",
      "\u001b[0;32m/Library/Frameworks/Python.framework/Versions/3.5/lib/python3.5/threading.py\u001b[0m in \u001b[0;36mwait\u001b[0;34m(self, timeout)\u001b[0m\n\u001b[1;32m    291\u001b[0m         \u001b[0;32mtry\u001b[0m\u001b[0;34m:\u001b[0m    \u001b[0;31m# restore state no matter what (e.g., KeyboardInterrupt)\u001b[0m\u001b[0;34m\u001b[0m\u001b[0m\n\u001b[1;32m    292\u001b[0m             \u001b[0;32mif\u001b[0m \u001b[0mtimeout\u001b[0m \u001b[0;32mis\u001b[0m \u001b[0;32mNone\u001b[0m\u001b[0;34m:\u001b[0m\u001b[0;34m\u001b[0m\u001b[0m\n\u001b[0;32m--> 293\u001b[0;31m                 \u001b[0mwaiter\u001b[0m\u001b[0;34m.\u001b[0m\u001b[0macquire\u001b[0m\u001b[0;34m(\u001b[0m\u001b[0;34m)\u001b[0m\u001b[0;34m\u001b[0m\u001b[0m\n\u001b[0m\u001b[1;32m    294\u001b[0m                 \u001b[0mgotit\u001b[0m \u001b[0;34m=\u001b[0m \u001b[0;32mTrue\u001b[0m\u001b[0;34m\u001b[0m\u001b[0m\n\u001b[1;32m    295\u001b[0m             \u001b[0;32melse\u001b[0m\u001b[0;34m:\u001b[0m\u001b[0;34m\u001b[0m\u001b[0m\n",
      "\u001b[0;31mKeyboardInterrupt\u001b[0m: "
     ]
    }
   ],
   "source": [
    "from sklearn.model_selection import GridSearchCV,StratifiedShuffleSplit\n",
    "C_range = np.logspace(-1, 1, 10)\n",
    "gamma_range = np.logspace(0, 2, 10)\n",
    "cv = StratifiedShuffleSplit(n_splits=5, test_size=0.2, random_state=42)\n",
    "param_grid = dict(gamma=gamma_range, C=C_range)\n",
    "grid = GridSearchCV(SVC(), param_grid=param_grid,n_jobs=-1,cv= cv)\n",
    "grid.fit(train_X, train_df.Label)\n",
    "\n",
    "print(\"The best parameters are %s with a score of %0.2f\"\n",
    "      % (grid.best_params_, grid.best_score_))\n",
    "\n"
   ]
  },
  {
   "cell_type": "code",
   "execution_count": 0,
   "metadata": {
    "autoscroll": "json-false",
    "collapsed": false,
    "ein.tags": [
     "worksheet-0"
    ],
    "slideshow": {
     "slide_type": "-"
    }
   },
   "outputs": [],
   "source": []
  },
  {
   "cell_type": "code",
   "execution_count": 8,
   "metadata": {
    "autoscroll": "json-false",
    "collapsed": false,
    "ein.tags": [
     "worksheet-0"
    ],
    "slideshow": {
     "slide_type": "-"
    }
   },
   "outputs": [],
   "source": []
  },
  {
   "cell_type": "code",
   "execution_count": 9,
   "metadata": {
    "autoscroll": "json-false",
    "collapsed": false,
    "ein.tags": [
     "worksheet-0"
    ],
    "slideshow": {
     "slide_type": "-"
    }
   },
   "outputs": [],
   "source": [
    "\n"
   ]
  },
  {
   "cell_type": "code",
   "execution_count": 6,
   "metadata": {
    "autoscroll": "json-false",
    "collapsed": false,
    "ein.tags": [
     "worksheet-0"
    ],
    "slideshow": {
     "slide_type": "-"
    }
   },
   "outputs": [],
   "source": [
    "from sklearn.feature_selection import SelectKBest\n",
    "skb2w = SelectKBest(score_func=chi2,k=20000)\n",
    "tX = skb2w.fit_transform(train_X_TfFS,train_df.Label)\n",
    "teX = skb2w.transform(test_X_TfFS)\n",
    " "
   ]
  },
  {
   "cell_type": "code",
   "execution_count": 7,
   "metadata": {
    "autoscroll": "json-false",
    "collapsed": false,
    "ein.tags": [
     "worksheet-0"
    ],
    "slideshow": {
     "slide_type": "-"
    }
   },
   "outputs": [
    {
     "data": {
      "text/plain": [
       "0.19744656136904734"
      ]
     },
     "execution_count": 7,
     "metadata": {},
     "output_type": "execute_result"
    }
   ],
   "source": [
    "svd = TruncatedSVD(n_components=100,random_state=42)\n",
    "train_X_svd = svd.fit_transform(tX)\n",
    "test_X_svd = svd.transform(teX)\n",
    "\n",
    "svd.explained_variance_ratio_.sum()"
   ]
  },
  {
   "cell_type": "code",
   "execution_count": 8,
   "metadata": {
    "autoscroll": "json-false",
    "collapsed": false,
    "ein.tags": [
     "worksheet-0"
    ],
    "slideshow": {
     "slide_type": "-"
    }
   },
   "outputs": [
    {
     "data": {
      "text/plain": [
       "Empty DataFrame\n",
       "Columns: []\n",
       "Index: []"
      ]
     },
     "execution_count": 8,
     "metadata": {},
     "output_type": "execute_result"
    },
    {
     "name": "stdout",
     "output_type": "stream",
     "text": [
      "[[ 281  631  123]\n",
      " [ 202 1739  456]\n",
      " [  42  646  794]]\n",
      "Time : 10.40593695640564, Name : Random Forest, Score : (0.56337510333831009, 0.51091675458346619, 0.51966694078113917, None)\n"
     ]
    },
    {
     "name": "stdout",
     "output_type": "stream",
     "text": [
      "[[ 381  447  207]\n",
      " [ 575 1139  683]\n",
      " [ 220  597  665]]\n",
      "Time : 3.1337649822235107, Name : Decision Tree, Score : (0.42446379071282725, 0.43067039857049111, 0.42665083892031319, None)\n"
     ]
    },
    {
     "name": "stdout",
     "output_type": "stream",
     "text": [
      "[[ 260  701   74]\n",
      " [ 184 1905  308]\n",
      " [  35  781  666]]\n",
      "Time : 116.57085585594177, Name : RBF SVM, Score : (0.58024610642078844, 0.49844795710193823, 0.50955231225596143, None)\n"
     ]
    },
    {
     "name": "stdout",
     "output_type": "stream",
     "text": [
      "[[ 684   79  272]\n",
      " [1105  325  967]\n",
      " [ 413  118  951]]\n",
      "Time : 0.11882400512695312, Name : Naive Bayes, Score : (0.45582621410813845, 0.47938537314301638, 0.38775546230461111, None)\n"
     ]
    }
   ],
   "source": [
    "getResultofAlgo(classifiers_given,train_X_svd,train_df.Label,test_X_svd,test_df.Label)"
   ]
  },
  {
   "cell_type": "code",
   "execution_count": 13,
   "metadata": {
    "autoscroll": "json-false",
    "collapsed": false,
    "ein.tags": [
     "worksheet-0"
    ],
    "slideshow": {
     "slide_type": "-"
    }
   },
   "outputs": [],
   "source": []
  },
  {
   "cell_type": "code",
   "execution_count": 13,
   "metadata": {
    "autoscroll": "json-false",
    "collapsed": false,
    "ein.tags": [
     "worksheet-0"
    ],
    "slideshow": {
     "slide_type": "-"
    }
   },
   "outputs": [],
   "source": []
  },
  {
   "cell_type": "code",
   "execution_count": 85,
   "metadata": {
    "autoscroll": "json-false",
    "collapsed": false,
    "ein.tags": [
     "worksheet-0"
    ],
    "slideshow": {
     "slide_type": "-"
    }
   },
   "outputs": [],
   "source": [
    "from sklearn.feature_extraction.text import TfidfVectorizer\n",
    "#This block used for plot a figure for svd\n",
    "cv_p = TfidfVectorizer(min_df = 0.00001,stop_words = 'english',analyzer='word',ngram_range=(1,2))\n",
    "tX_svd = cv_p.fit_transform(train_df.Tweet[:5])\n"
   ]
  },
  {
   "cell_type": "code",
   "execution_count": 80,
   "metadata": {
    "autoscroll": "json-false",
    "collapsed": false,
    "ein.tags": [
     "worksheet-0"
    ],
    "slideshow": {
     "slide_type": "-"
    }
   },
   "outputs": [],
   "source": [
    "def plot_svd(matrix):\n",
    "    plt.imshow(matrix, interpolation='nearest', cmap = plt.cm.Blues)\n",
    "    plt.title(\"svd\")\n",
    "    plt.colorbar()\n",
    "    plt.xlabel(\"features\")\n",
    "    plt.ylabel(\"tweets\")\n",
    "    plt.show()"
   ]
  },
  {
   "cell_type": "code",
   "execution_count": 81,
   "metadata": {
    "autoscroll": "json-false",
    "collapsed": false,
    "ein.tags": [
     "worksheet-0"
    ],
    "slideshow": {
     "slide_type": "-"
    }
   },
   "outputs": [
    {
     "data": {
      "image/png": "[encoded data removed]",
      "text/plain": [
       "<matplotlib.figure.Figure at 0x11e42f940>"
      ]
     },
     "metadata": {},
     "output_type": "display_data"
    }
   ],
   "source": [
    "plot_svd(tX_svd.toarray())"
   ]
  },
  {
   "cell_type": "code",
   "execution_count": 82,
   "metadata": {
    "autoscroll": "json-false",
    "collapsed": false,
    "ein.tags": [
     "worksheet-0"
    ],
    "slideshow": {
     "slide_type": "-"
    }
   },
   "outputs": [
    {
     "data": {
      "image/png": "[encoded data removed]",
      "text/plain": [
       "<matplotlib.figure.Figure at 0x10e657208>"
      ]
     },
     "metadata": {},
     "output_type": "display_data"
    }
   ],
   "source": [
    "svd_p = TruncatedSVD(n_components=5)\n",
    "tX_svd_a = svd_p.fit_transform(tX_svd)\n",
    "plot_svd(tX_svd_a)"
   ]
  },
  {
   "cell_type": "code",
   "execution_count": 84,
   "metadata": {
    "autoscroll": "json-false",
    "collapsed": false,
    "ein.tags": [
     "worksheet-0"
    ],
    "slideshow": {
     "slide_type": "-"
    }
   },
   "outputs": [
    {
     "data": {
      "text/plain": [
       "0.99999999999999978"
      ]
     },
     "execution_count": 84,
     "metadata": {},
     "output_type": "execute_result"
    }
   ],
   "source": [
    "svd_p.explained_variance_ratio_.sum()"
   ]
  },
  {
   "cell_type": "code",
   "execution_count": 9,
   "metadata": {
    "autoscroll": "json-false",
    "collapsed": false,
    "ein.tags": [
     "worksheet-0"
    ],
    "slideshow": {
     "slide_type": "-"
    }
   },
   "outputs": [],
   "source": [
    "from sklearn.feature_extraction.text import TfidfTransformer\n",
    "from sklearn.feature_selection import SelectKBest\n",
    "classifiers_given = [\n",
    "    GaussianNB(),\n",
    "    SVC(gamma=10, C=1.29),\n",
    "    DecisionTreeClassifier(),\n",
    "    RandomForestClassifier(n_estimators=100, n_jobs=-1)\n",
    "]\n",
    "cv = CountVectorizer(min_df = 0.00001,stop_words = 'english',analyzer='word')\n",
    "train_X_Miko = cv.fit_transform(train_df.Tweet)\n",
    "test_X_Miko = cv.transform(test_df.Tweet)\n",
    "\n",
    "tf_fea = TfidfTransformer()\n",
    "train_X_TfFS = tf_fea.fit_transform(train_X_Miko)\n",
    "test_X_TfFS = tf_fea.transform(test_X_Miko)\n",
    "\n",
    "skb02 = SelectKBest(score_func=chi2,k=46)\n",
    "train_X = skb02.fit_transform(train_X_Miko,train_df.Label)\n",
    "test_X = skb02.transform(test_X_Miko)\n",
    "\n",
    "svm = SVC(gamma = 10,C =1.29)\n",
    "y_46 = svm.fit(train_X,train_df.Label).predict(test_X)"
   ]
  },
  {
   "cell_type": "code",
   "execution_count": 10,
   "metadata": {
    "autoscroll": "json-false",
    "collapsed": false,
    "ein.tags": [
     "worksheet-0"
    ],
    "slideshow": {
     "slide_type": "-"
    }
   },
   "outputs": [],
   "source": [
    "skb02 = SelectKBest(score_func=chi2,k=226)\n",
    "train_X = skb02.fit_transform(train_X_Miko,train_df.Label)\n",
    "test_X = skb02.transform(test_X_Miko)\n",
    "\n",
    "y_226 = svm.fit(train_X,train_df.Label).predict(test_X)"
   ]
  },
  {
   "cell_type": "code",
   "execution_count": 14,
   "metadata": {
    "autoscroll": "json-false",
    "collapsed": false,
    "ein.tags": [
     "worksheet-0"
    ],
    "slideshow": {
     "slide_type": "-"
    }
   },
   "outputs": [
    {
     "data": {
      "text/plain": [
       "array(['neutral', 'neutral', 'neutral', ..., 'negative', 'neutral',\n",
       "       'neutral'], dtype=object)"
      ]
     },
     "execution_count": 14,
     "metadata": {},
     "output_type": "execute_result"
    }
   ],
   "source": [
    "y_226"
   ]
  },
  {
   "cell_type": "code",
   "execution_count": 15,
   "metadata": {
    "autoscroll": "json-false",
    "collapsed": false,
    "ein.tags": [
     "worksheet-0"
    ],
    "slideshow": {
     "slide_type": "-"
    }
   },
   "outputs": [
    {
     "data": {
      "text/plain": [
       "array(['neutral', 'neutral', 'neutral', ..., 'neutral', 'neutral',\n",
       "       'positive'], dtype=object)"
      ]
     },
     "execution_count": 15,
     "metadata": {},
     "output_type": "execute_result"
    }
   ],
   "source": [
    "y_46"
   ]
  },
  {
   "cell_type": "code",
   "execution_count": 13,
   "metadata": {
    "autoscroll": "json-false",
    "collapsed": false,
    "ein.tags": [
     "worksheet-0"
    ],
    "slideshow": {
     "slide_type": "-"
    }
   },
   "outputs": [
    {
     "data": {
      "text/plain": [
       "(4914,)"
      ]
     },
     "execution_count": 13,
     "metadata": {},
     "output_type": "execute_result"
    }
   ],
   "source": [
    "test_df.Tweet.shape"
   ]
  },
  {
   "cell_type": "code",
   "execution_count": 32,
   "metadata": {
    "autoscroll": "json-false",
    "collapsed": false,
    "ein.tags": [
     "worksheet-0"
    ],
    "slideshow": {
     "slide_type": "-"
    }
   },
   "outputs": [],
   "source": [
    "\n"
   ]
  },
  {
   "cell_type": "code",
   "execution_count": 32,
   "metadata": {
    "autoscroll": "json-false",
    "collapsed": false,
    "ein.tags": [
     "worksheet-0"
    ],
    "slideshow": {
     "slide_type": "-"
    }
   },
   "outputs": [],
   "source": []
  },
  {
   "cell_type": "code",
   "execution_count": 4,
   "metadata": {
    "autoscroll": "json-false",
    "collapsed": false,
    "ein.tags": [
     "worksheet-0"
    ],
    "slideshow": {
     "slide_type": "-"
    }
   },
   "outputs": [],
   "source": [
    "# generate test output\n",
    "\n",
    "test_real = pd.read_table('/Users/bowenhuang/OneDrive/UniMelb/17Sem1/Knowledge Tech/Project2/2017S1-KTproj2-data/test-tweets.txt',header = None,usecols = [0,1])\n",
    "test_real.columns = ['ID','Tweet']"
   ]
  },
  {
   "cell_type": "code",
   "execution_count": 5,
   "metadata": {
    "autoscroll": "json-false",
    "collapsed": false,
    "ein.tags": [
     "worksheet-0"
    ],
    "slideshow": {
     "slide_type": "-"
    }
   },
   "outputs": [],
   "source": [
    "from sklearn.feature_extraction.text import TfidfTransformer\n",
    "cv = CountVectorizer(min_df = 0.00001,stop_words = 'english',analyzer='word',ngram_range=(1,2))\n",
    "train_X_Miko = cv.fit_transform(train_df.Tweet)\n",
    "test_X_Miko = cv.transform(test_real.Tweet)\n",
    "\n",
    "\n",
    "tf_fea = TfidfTransformer()\n",
    "train_X_TfFS = tf_fea.fit_transform(train_X_Miko)\n",
    "test_X_TfFS = tf_fea.transform(test_X_Miko)\n",
    "\n",
    "\n",
    "skb02 = SelectPercentile(score_func=chi2,percentile = 0.46)\n",
    "train_X = skb02.fit_transform(train_X_TfFS,train_df.Label)\n",
    "test_X = skb02.transform(test_X_TfFS)\n",
    "\n",
    "svm = SVC(gamma=10, C=1.29)\n",
    "y_pred = svm.fit(train_X,train_df.Label).predict(test_X)\n"
   ]
  },
  {
   "cell_type": "code",
   "execution_count": 6,
   "metadata": {
    "autoscroll": "json-false",
    "collapsed": false,
    "ein.tags": [
     "worksheet-0"
    ],
    "slideshow": {
     "slide_type": "-"
    }
   },
   "outputs": [
    {
     "data": {
      "text/plain": [
       "(4924,)"
      ]
     },
     "execution_count": 6,
     "metadata": {},
     "output_type": "execute_result"
    }
   ],
   "source": [
    "y_pred.shape"
   ]
  },
  {
   "cell_type": "code",
   "execution_count": 7,
   "metadata": {
    "autoscroll": "json-false",
    "collapsed": false,
    "ein.tags": [
     "worksheet-0"
    ],
    "slideshow": {
     "slide_type": "-"
    }
   },
   "outputs": [
    {
     "data": {
      "text/plain": [
       "(4924,)"
      ]
     },
     "execution_count": 7,
     "metadata": {},
     "output_type": "execute_result"
    }
   ],
   "source": [
    "test_real.ID.shape"
   ]
  },
  {
   "cell_type": "code",
   "execution_count": 10,
   "metadata": {
    "autoscroll": "json-false",
    "collapsed": false,
    "ein.tags": [
     "worksheet-0"
    ],
    "slideshow": {
     "slide_type": "-"
    }
   },
   "outputs": [],
   "source": [
    "\n"
   ]
  },
  {
   "cell_type": "code",
   "execution_count": 11,
   "metadata": {
    "autoscroll": "json-false",
    "collapsed": false,
    "ein.tags": [
     "worksheet-0"
    ],
    "slideshow": {
     "slide_type": "-"
    }
   },
   "outputs": [],
   "source": []
  },
  {
   "cell_type": "code",
   "execution_count": 13,
   "metadata": {
    "autoscroll": "json-false",
    "collapsed": false,
    "ein.tags": [
     "worksheet-0"
    ],
    "slideshow": {
     "slide_type": "-"
    }
   },
   "outputs": [],
   "source": [
    "actual = [\"?\" for _ in range(4924)]\n",
    "error = [\"\" for _ in range(4924)]\n",
    "prediction = [\"\" for _ in range(4924)]\n",
    "r= {'actual':actual,'predicted':y_pred,'actual':actual,'error':error,'prediction':prediction,'id':test_real.ID}\n",
    "result = pd.DataFrame(data = r)\n",
    "result.to_csv(\"~/rst_proj2.csv\")"
   ]
  },
  {
   "cell_type": "code",
   "execution_count": 14,
   "metadata": {
    "autoscroll": "json-false",
    "collapsed": false,
    "ein.tags": [
     "worksheet-0"
    ],
    "slideshow": {
     "slide_type": "-"
    }
   },
   "outputs": [
    {
     "data": {
      "text/plain": [
       "<bound method NDFrame.head of      actual error                  id predicted prediction\n",
       "0         ?        674277485807140864   neutral           \n",
       "1         ?        629328699230306304   neutral           \n",
       "2         ?        672700570013212672  negative           \n",
       "3         ?        802339460633559040  positive           \n",
       "4         ?        802345702655344640   neutral           \n",
       "5         ?        640741434589474816  positive           \n",
       "6         ?        626585536682135553   neutral           \n",
       "7         ?        636388518034546689  positive           \n",
       "8         ?        625614215236063233   neutral           \n",
       "9         ?        640258517333614592   neutral           \n",
       "10        ?        627239381619867648  negative           \n",
       "11        ?        805578452405338112   neutral           \n",
       "12        ?        638250281935892482   neutral           \n",
       "13        ?        630528372112793600  positive           \n",
       "14        ?        802351224100155396   neutral           \n",
       "15        ?        674834621066969088   neutral           \n",
       "16        ?        681545947017572353  positive           \n",
       "17        ?        800851283963998212   neutral           \n",
       "18        ?        636146606513999872   neutral           \n",
       "19        ?        673897277379989504   neutral           \n",
       "20        ?        640201697978155008   neutral           \n",
       "21        ?        802102786477485952  positive           \n",
       "22        ?        629544711779282944  negative           \n",
       "23        ?        679396770443579393   neutral           \n",
       "24        ?        635590123497852928   neutral           \n",
       "25        ?        801702492476243968   neutral           \n",
       "26        ?        665691552300277760  negative           \n",
       "27        ?        637769872601124864  positive           \n",
       "28        ?        805638338342486016  positive           \n",
       "29        ?        637040208433823744   neutral           \n",
       "...     ...   ...                 ...       ...        ...\n",
       "4894      ?        641102757060038656   neutral           \n",
       "4895      ?        641141881565540353   neutral           \n",
       "4896      ?        677962207079067648   neutral           \n",
       "4897      ?        805629060650921985  negative           \n",
       "4898      ?        640083458170204160   neutral           \n",
       "4899      ?        639999541987536896   neutral           \n",
       "4900      ?        805669453308588032  negative           \n",
       "4901      ?        802385945399963648  positive           \n",
       "4902      ?        638148359593684992  positive           \n",
       "4903      ?        637635782094798848  positive           \n",
       "4904      ?        641316674466095106   neutral           \n",
       "4905      ?        805643610653949953  negative           \n",
       "4906      ?        626906355417411584   neutral           \n",
       "4907      ?        634855105594953729   neutral           \n",
       "4908      ?        630196414643965954  negative           \n",
       "4909      ?        802202880635703040  negative           \n",
       "4910      ?        632771898904940545   neutral           \n",
       "4911      ?        805669471499255808  negative           \n",
       "4912      ?        634822674594832384   neutral           \n",
       "4913      ?        802106294970776960   neutral           \n",
       "4914      ?        631919152060624897   neutral           \n",
       "4915      ?        634552066665398272  positive           \n",
       "4916      ?        640790790252437504  positive           \n",
       "4917      ?        637384208122380288   neutral           \n",
       "4918      ?        805722619148455936  negative           \n",
       "4919      ?        679587756943646721  positive           \n",
       "4920      ?        674153881803186176   neutral           \n",
       "4921      ?        801203179480350721  negative           \n",
       "4922      ?        625433960537985026  negative           \n",
       "4923      ?        802363859373694976  negative           \n",
       "\n",
       "[4924 rows x 5 columns]>"
      ]
     },
     "execution_count": 14,
     "metadata": {},
     "output_type": "execute_result"
    }
   ],
   "source": [
    "result.head"
   ]
  },
  {
   "cell_type": "code",
   "execution_count": 15,
   "metadata": {
    "autoscroll": "json-false",
    "collapsed": false,
    "ein.tags": [
     "worksheet-0"
    ],
    "slideshow": {
     "slide_type": "-"
    }
   },
   "outputs": [],
   "source": []
  },
  {
   "cell_type": "code",
   "execution_count": 0,
   "metadata": {
    "autoscroll": "json-false",
    "collapsed": false,
    "ein.tags": [
     "worksheet-0"
    ],
    "slideshow": {
     "slide_type": "-"
    }
   },
   "outputs": [],
   "source": []
  }
 ],
 "metadata": {
  "kernelspec": {
   "display_name": "Python 3",
   "name": "python3"
  },
  "name": "KT_Proj2_v2.0.ipynb"
 },
 "nbformat": 4,
 "nbformat_minor": 2
}
